{
 "cells": [
  {
   "cell_type": "code",
   "execution_count": null,
   "id": "d7643e6b-471b-45af-a657-59813440c5a2",
   "metadata": {},
   "outputs": [],
   "source": [
    "import pandas as pd\n",
    "import os\n",
    "\n",
    "def limpiar_correos(df):\n",
    "    patrones_invalidos = ['^sin.?correo$', '^no.?tiene.?correo$', '^sincorreo$', '^SINCORREO$']\n",
    "    regex_invalido = '|'.join(patrones_invalidos)\n",
    "    df = df[~df['CORREO'].str.strip().str.lower().str.match(regex_invalido, na=False)]\n",
    "\n",
    "    df['CORREO'] = df['CORREO'].str.strip().str.lower()\n",
    "    df['CORREO'] = df['CORREO'].apply(corregir_multiples_arrobas)\n",
    "    df['CORREO'] = df['CORREO'].apply(corregir_dominio)\n",
    "    df = df.drop_duplicates(subset=['RUT'])\n",
    "\n",
    "    return df\n",
    "\n",
    "def corregir_multiples_arrobas(correo):\n",
    "    if pd.isnull(correo):\n",
    "        return correo\n",
    "    partes = correo.split('@')\n",
    "    if len(partes) > 2:\n",
    "        correo = partes[0] + '@' + partes[-1]\n",
    "    return correo\n",
    "\n",
    "def corregir_dominio(correo):\n",
    "    if pd.isnull(correo) or '@' not in correo:\n",
    "        return correo\n",
    "    usuario, dominio = correo.split('@')\n",
    "    if 'gmail' in dominio:\n",
    "        return f'{usuario}@gmail.com'\n",
    "    elif 'outlook' in dominio or 'hotmail' in dominio:\n",
    "        return f'{usuario}@outlook.com'\n",
    "    elif 'yahoo' in dominio:\n",
    "        return f'{usuario}@yahoo.com'\n",
    "    else:\n",
    "        return correo\n",
    "\n",
    "ruta_archivo = input(\"Ingresa la ruta completa o relativa del archivo CSV a limpiar: \").strip()\n",
    "\n",
    "if not os.path.exists(ruta_archivo):\n",
    "    print(f\"⚠️ El archivo no se encuentra en la ruta: {ruta_archivo}\")\n",
    "else:\n",
    "    df = pd.read_csv(ruta_archivo, sep=';', usecols=[0,1,2], names=['RUT', 'NOMBRE', 'CORREO'], header=0, encoding='latin1')\n",
    "    df_limpio = limpiar_correos(df)\n",
    "    carpeta, nombre = os.path.split(ruta_archivo)\n",
    "    nombre_sin_ext = os.path.splitext(nombre)[0]\n",
    "    salida = os.path.join(carpeta, f\"{nombre_sin_ext}_LIMPIO.xlsx\")\n",
    "    df_limpio.to_excel(salida, index=False)\n",
    "    print(f\"✅ Archivo limpio guardado en: {salida}\")\n"
   ]
  }
 ],
 "metadata": {
  "kernelspec": {
   "display_name": "Python 3 (ipykernel)",
   "language": "python",
   "name": "python3"
  },
  "language_info": {
   "codemirror_mode": {
    "name": "ipython",
    "version": 3
   },
   "file_extension": ".py",
   "mimetype": "text/x-python",
   "name": "python",
   "nbconvert_exporter": "python",
   "pygments_lexer": "ipython3",
   "version": "3.13.1"
  }
 },
 "nbformat": 4,
 "nbformat_minor": 5
}
